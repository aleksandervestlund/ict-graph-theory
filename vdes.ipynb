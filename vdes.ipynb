{
 "cells": [
  {
   "cell_type": "raw",
   "metadata": {},
   "source": [
    "Andreas Kolstad Bertelsen, også kjent som Bertyboii, og Aleksander Thornes Vestlund,\n",
    "også kjent som Mannen/Myten/Legenden, er nå ansatt som sikkerhetsansvarlig i VDES.\n",
    "De har fått i oppgave å sikre nettverket til VDES, og har derfor laget en plan for\n",
    "hvordan de skal gjøre dette. Dette er tjue-stegs-planen:\n",
    "\n",
    "1. Fjern alle radio tårn.\n",
    "2. Fjern alle satelliter.\n",
    "3. Fjern alle kabler.\n",
    "4. Fjern alle servere.\n",
    "5. Fjern alle klienter.\n",
    "6. Fjern alle ansatte.\n",
    "7. Fjern alle bygninger.\n",
    "8. Fjern alle land.\n",
    "9. Fjern alle planeter.\n",
    "10. Fjern alle stjerner.\n",
    "11. Fjern alle galakser.\n",
    "12. Fjern alle universer.\n",
    "13. Fjern alle dimensjoner.\n",
    "14. Fjern alle tidslinjer.\n",
    "15. Fjern alle eksistenser.\n",
    "16. Fjern alle muligheter for eksistens.\n",
    "17. Fjern alle muligheter for muligheter for eksistens.\n",
    "18. Fjern alle muligheter for muligheter for muligheter for eksistens.\n",
    "19. Fjern alle muligheter for muligheter for muligheter for muligheter for eksistens.\n",
    "20. Fjern alle muligheter for muligheter for muligheter for muligheter for muligheter for eksistens.\n",
    "\n",
    "Konklusjon: VDES er nå sikret. Ingen kan angripe VDES, siden det ikke lenger eksisterer.\n",
    "\n",
    "\n",
    "-- Waveybois"
   ]
  }
 ],
 "metadata": {
  "kernelspec": {
   "display_name": "Python 3 (ipykernel)",
   "language": "python",
   "name": "python3"
  },
  "language_info": {
   "codemirror_mode": {
    "name": "ipython",
    "version": 3
   },
   "file_extension": ".py",
   "mimetype": "text/x-python",
   "name": "python",
   "nbconvert_exporter": "python",
   "pygments_lexer": "ipython3",
   "version": "3.11.0"
  },
  "vscode": {
   "interpreter": {
    "hash": "fc7015e61c5d731a64fed8431f0b11bd965ec59f923fd63d7e4b3bbde7dba9c0"
   }
  }
 },
 "nbformat": 4,
 "nbformat_minor": 2
}
